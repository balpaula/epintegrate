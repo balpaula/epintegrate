{
 "cells": [
  {
   "cell_type": "code",
   "execution_count": 31,
   "metadata": {},
   "outputs": [],
   "source": [
    "from glob import glob"
   ]
  },
  {
   "cell_type": "code",
   "execution_count": 32,
   "metadata": {},
   "outputs": [],
   "source": [
    "import os\n",
    "import sys\n",
    "import numpy as np"
   ]
  },
  {
   "cell_type": "code",
   "execution_count": 33,
   "metadata": {},
   "outputs": [],
   "source": [
    "rpath = '/scratch/Projects/BSC_summer_intership/results/eigenvector_data_03/{}_{}/06_segmentation/compartments_100kb/'"
   ]
  },
  {
   "cell_type": "code",
   "execution_count": 34,
   "metadata": {},
   "outputs": [],
   "source": [
    "samples = ['CLL_12', 'CLL_110', 'CLL_1525', 'NBC', 'MBC', 'GCBC', 'PBC']\n",
    "nrands = ['01','02','03','04','05','06','07','08','09','10','11','12','13','14','15','16','17','18','19','20']"
   ]
  },
  {
   "cell_type": "code",
   "execution_count": 35,
   "metadata": {},
   "outputs": [],
   "source": [
    "#Human Genome Assembly GRCh38\n",
    "genome = {'1': 248956422, '2': 242193529, '3': 198295559, '4': 190214555, '5': 181538259, '6': 170805979, '7': 159345973, '8': 145138636, '9': 138394717, '10': 133797422, '11': 135086622, '12': 133275309, '13': 114364328, '14': 107043718, '15': 101991189, '16': 90338345, '17': 83257441, '18': 80373285, '19': 58617616, '20': 64444167, '21': 46709983, '22': 50818468, 'X': 156040895}"
   ]
  },
  {
   "cell_type": "code",
   "execution_count": 36,
   "metadata": {},
   "outputs": [
    {
     "data": {
      "text/plain": [
       "{'1': 2491,\n",
       " '10': 1339,\n",
       " '11': 1352,\n",
       " '12': 1334,\n",
       " '13': 1145,\n",
       " '14': 1072,\n",
       " '15': 1021,\n",
       " '16': 905,\n",
       " '17': 834,\n",
       " '18': 805,\n",
       " '19': 588,\n",
       " '2': 2423,\n",
       " '20': 646,\n",
       " '21': 469,\n",
       " '22': 510,\n",
       " '3': 1984,\n",
       " '4': 1904,\n",
       " '5': 1817,\n",
       " '6': 1710,\n",
       " '7': 1595,\n",
       " '8': 1453,\n",
       " '9': 1385,\n",
       " 'X': 1562}"
      ]
     },
     "execution_count": 36,
     "metadata": {},
     "output_type": "execute_result"
    }
   ],
   "source": [
    "#Adjusting genome dictionary to resolution\n",
    "resolution = 100000\n",
    "for k in genome:\n",
    "    genome[k] = genome[k]/resolution + 2 #should be 1. Custom genome\n",
    "    \n",
    "genome"
   ]
  },
  {
   "cell_type": "code",
   "execution_count": 37,
   "metadata": {},
   "outputs": [],
   "source": [
    "out = open('complete_genome_data_onlyvalues_corrected.csv', 'w')"
   ]
  },
  {
   "cell_type": "code",
   "execution_count": 38,
   "metadata": {},
   "outputs": [],
   "source": [
    "for sample in samples:\n",
    "    for nrand in nrands:\n",
    "        tpath = rpath.format(sample, nrand)\n",
    "        for chrom in range(1, 23) + ['X']:\n",
    "            chrom = str(chrom)\n",
    "            fh = open(glob(tpath + '{}_EigVect1_*.tsv'.format(chrom))[0],'r')\n",
    "            next(fh)\n",
    "            pos = 0\n",
    "            for line in fh:\n",
    "                v = float(line.strip())\n",
    "                if np.isnan(v):\n",
    "                    v = 0.5\n",
    "                else:\n",
    "                    v = 1. / (1. + np.exp(-v))\n",
    "                out.write('{}\\t'.format(v))\n",
    "                pos += 1\n",
    "            while pos < genome[chrom]:\n",
    "                v = 0.5\n",
    "                out.write('{}\\t'.format(v))\n",
    "                pos += 1\n",
    "        out.write('\\n')\n",
    "out.close()"
   ]
  },
  {
   "cell_type": "code",
   "execution_count": null,
   "metadata": {},
   "outputs": [],
   "source": []
  }
 ],
 "metadata": {
  "kernelspec": {
   "display_name": "Python 2",
   "language": "python",
   "name": "python2"
  },
  "language_info": {
   "codemirror_mode": {
    "name": "ipython",
    "version": 2
   },
   "file_extension": ".py",
   "mimetype": "text/x-python",
   "name": "python",
   "nbconvert_exporter": "python",
   "pygments_lexer": "ipython2",
   "version": "2.7.16"
  }
 },
 "nbformat": 4,
 "nbformat_minor": 2
}
