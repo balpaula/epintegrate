{
 "cells": [
  {
   "cell_type": "code",
   "execution_count": 1,
   "metadata": {},
   "outputs": [],
   "source": [
    "from glob import glob"
   ]
  },
  {
   "cell_type": "code",
   "execution_count": 2,
   "metadata": {},
   "outputs": [],
   "source": [
    "import os\n",
    "import sys\n",
    "import numpy as np"
   ]
  },
  {
   "cell_type": "code",
   "execution_count": 3,
   "metadata": {},
   "outputs": [],
   "source": [
    "rpath = '/scratch/Projects/BSC_summer_intership/results/eigenvector_data_03/{}_{}/06_segmentation/compartments_100kb/'"
   ]
  },
  {
   "cell_type": "code",
   "execution_count": 4,
   "metadata": {},
   "outputs": [],
   "source": [
    "samples = ['CLL_12', 'CLL_110', 'CLL_1525', 'NBC', 'MBC', 'GCBC', 'PBC']\n",
    "nrands = ['01','02','03','04','05','06','07','08','09','10','11','12','13','14','15','16','17','18','19','20']"
   ]
  },
  {
   "cell_type": "code",
   "execution_count": 5,
   "metadata": {},
   "outputs": [],
   "source": [
    "#Human Genome Assembly GRCh38\n",
    "genome = {'1': 248956422, '2': 242193529, '3': 198295559, '4': 190214555, '5': 181538259, '6': 170805979, '7': 159345973, '8': 145138636, '9': 138394717, '10': 133797422, '11': 135086622, '12': 133275309, '13': 114364328, '14': 107043718, '15': 101991189, '16': 90338345, '17': 83257441, '18': 80373285, '19': 58617616, '20': 64444167, '21': 46709983, '22': 50818468, 'X': 156040895}"
   ]
  },
  {
   "cell_type": "code",
   "execution_count": 6,
   "metadata": {},
   "outputs": [
    {
     "name": "stdout",
     "output_type": "stream",
     "text": [
      "{'20': 645, '21': 468, '22': 509, '1': 2490, '3': 1983, '2': 2422, '5': 1816, '4': 1903, '7': 1594, '6': 1709, '9': 1384, '8': 1452, 'X': 1561, '11': 1351, '10': 1338, '13': 1144, '12': 1333, '15': 1020, '14': 1071, '17': 833, '16': 904, '19': 587, '18': 804}\n"
     ]
    }
   ],
   "source": [
    "#Adjusting genome dictionary to resolution\n",
    "resolution = 100000\n",
    "for k in genome:\n",
    "    genome[k] = genome[k]/resolution + 1 #or 2?\n",
    "    \n",
    "print(genome)"
   ]
  },
  {
   "cell_type": "code",
   "execution_count": 9,
   "metadata": {},
   "outputs": [],
   "source": [
    "out = open('complete_genome_data_corrected.csv', 'w')\n",
    "out.write('{}\\t{}\\t{}\\t{}\\t{}\\n'.format('Cell','Repl','Chr','Pos','Value'))"
   ]
  },
  {
   "cell_type": "code",
   "execution_count": 10,
   "metadata": {},
   "outputs": [],
   "source": [
    "for sample in samples:\n",
    "    for nrand in nrands:\n",
    "        tpath = rpath.format(sample, nrand)\n",
    "        for chrom in range(1, 23) + ['X']:\n",
    "            chrom = str(chrom)\n",
    "            fh = open(glob(tpath + '{}_EigVect1_*.tsv'.format(chrom))[0],'r')\n",
    "            next(fh)\n",
    "            pos = 0\n",
    "            for line in fh:\n",
    "                v = float(line.strip())\n",
    "                if np.isnan(v):\n",
    "                    v = 0.5\n",
    "                else:\n",
    "                    v = 1. / (1. + np.exp(-v))\n",
    "                out.write('{}\\t{}\\t{}\\t{}\\t{}\\n'.format(sample, nrand, chrom, pos, v))\n",
    "                pos = pos + 1\n",
    "            while pos < genome[chrom]:\n",
    "                v = 0.5\n",
    "                out.write('{}\\t{}\\t{}\\t{}\\t{}\\n'.format(sample, nrand, chrom, pos, v))\n",
    "                pos = pos + 1\n",
    "                    \n",
    "out.close()"
   ]
  }
 ],
 "metadata": {
  "kernelspec": {
   "display_name": "Python 2",
   "language": "python",
   "name": "python2"
  },
  "language_info": {
   "codemirror_mode": {
    "name": "ipython",
    "version": 2
   },
   "file_extension": ".py",
   "mimetype": "text/x-python",
   "name": "python",
   "nbconvert_exporter": "python",
   "pygments_lexer": "ipython2",
   "version": "2.7.16"
  }
 },
 "nbformat": 4,
 "nbformat_minor": 2
}
